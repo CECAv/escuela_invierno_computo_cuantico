{
 "cells": [
  {
   "cell_type": "code",
   "execution_count": 1,
   "id": "d55337cf",
   "metadata": {},
   "outputs": [],
   "source": [
    "import qiskit as q"
   ]
  },
  {
   "cell_type": "code",
   "execution_count": 2,
   "id": "0f605566",
   "metadata": {},
   "outputs": [],
   "source": [
    "N = \n",
    "anc = q.QuantumRegister(1,\"ancilla\")\n",
    "qr = q.QuantumRegister(N,\"ancilla\")"
   ]
  },
  {
   "cell_type": "code",
   "execution_count": null,
   "id": "05564cce",
   "metadata": {},
   "outputs": [],
   "source": []
  },
  {
   "cell_type": "code",
   "execution_count": null,
   "id": "ad1cac50",
   "metadata": {},
   "outputs": [],
   "source": []
  },
  {
   "cell_type": "code",
   "execution_count": null,
   "id": "47524ed0",
   "metadata": {},
   "outputs": [],
   "source": []
  },
  {
   "cell_type": "code",
   "execution_count": null,
   "id": "14e119bb",
   "metadata": {},
   "outputs": [],
   "source": []
  },
  {
   "cell_type": "markdown",
   "id": "8d69e887",
   "metadata": {},
   "source": [
    "## Amplitude Amplification"
   ]
  },
  {
   "cell_type": "code",
   "execution_count": null,
   "id": "e1d5a68a",
   "metadata": {},
   "outputs": [],
   "source": []
  }
 ],
 "metadata": {
  "kernelspec": {
   "display_name": "Python 3 (ipykernel)",
   "language": "python",
   "name": "python3"
  },
  "language_info": {
   "codemirror_mode": {
    "name": "ipython",
    "version": 3
   },
   "file_extension": ".py",
   "mimetype": "text/x-python",
   "name": "python",
   "nbconvert_exporter": "python",
   "pygments_lexer": "ipython3",
   "version": "3.9.10"
  }
 },
 "nbformat": 4,
 "nbformat_minor": 5
}
