{
 "cells": [
  {
   "cell_type": "markdown",
   "id": "8a6c787f",
   "metadata": {},
   "source": [
    "# Algoritmo de Búsqueda de Grover"
   ]
  },
  {
   "cell_type": "code",
   "execution_count": 20,
   "id": "530e866c",
   "metadata": {},
   "outputs": [],
   "source": [
    "import qiskit as q\n",
    "import numpy as np"
   ]
  },
  {
   "cell_type": "code",
   "execution_count": null,
   "id": "4079eee0",
   "metadata": {},
   "outputs": [],
   "source": []
  },
  {
   "cell_type": "code",
   "execution_count": null,
   "id": "8450f291",
   "metadata": {},
   "outputs": [],
   "source": []
  },
  {
   "cell_type": "markdown",
   "id": "f99b1c21",
   "metadata": {},
   "source": [
    "## Construcción del Oráculo"
   ]
  },
  {
   "cell_type": "code",
   "execution_count": 96,
   "id": "df19022b",
   "metadata": {},
   "outputs": [
    {
     "name": "stdout",
     "output_type": "stream",
     "text": [
      "111\n"
     ]
    },
    {
     "data": {
      "image/png": "[encoded data removed]",
      "text/plain": [
       "<Figure size 146.797x264.88 with 1 Axes>"
      ]
     },
     "execution_count": 96,
     "metadata": {},
     "output_type": "execute_result"
    }
   ],
   "source": [
    "from random import random\n",
    "\n",
    "def random_oracle(n):\n",
    "    \"\"\"\n",
    "    Random oracla of a n-qubit register plus an ancillary qubit.\n",
    "    \"\"\"\n",
    "    or_circuit = q.QuantumCircuit(n+1)\n",
    "    \n",
    "    inverted = []\n",
    "    selected_state = \"\"\n",
    "    for i in range(n):\n",
    "        if random()>0.5:\n",
    "            inverted.append(i)\n",
    "            or_circuit.x(i)\n",
    "            selected_state =\"0\"+ selected_state\n",
    "        else:\n",
    "            selected_state =\"1\"+ selected_state\n",
    "    \n",
    "    mc_gate = q.circuit.library.standard_gates.XGate().control(n)\n",
    "    or_circuit.append(mc_gate,range(n+1))\n",
    "    if len(inverted)>0:\n",
    "        or_circuit.x(inverted)\n",
    "    or_circuit.draw(\"mpl\")\n",
    "    #return or_circuit.to_gate(label=\"Oracle\")\n",
    "    return selected_state,or_circuit\n",
    "answer, oracle = random_oracle(3)\n",
    "print(answer)\n",
    "oracle.draw(\"mpl\")"
   ]
  },
  {
   "cell_type": "code",
   "execution_count": 97,
   "id": "f6c3c3e7",
   "metadata": {},
   "outputs": [
    {
     "name": "stdout",
     "output_type": "stream",
     "text": [
      "111\n",
      "input: 000\n",
      "(0.7071067811865476+0j) (-0.7071067811865476+0j)\n",
      "input: 001\n",
      "(0.7071067811865476+0j) (-0.7071067811865476+0j)\n",
      "input: 010\n",
      "(0.7071067811865476+0j) (-0.7071067811865476+0j)\n",
      "input: 011\n",
      "(0.7071067811865476+0j) (-0.7071067811865476+0j)\n",
      "input: 100\n",
      "(0.7071067811865476+0j) (-0.7071067811865476+0j)\n",
      "input: 101\n",
      "(0.7071067811865476+0j) (-0.7071067811865476+0j)\n",
      "input: 110\n",
      "(0.7071067811865476+0j) (-0.7071067811865476+0j)\n",
      "input: 111\n",
      "(-0.7071067811865476+0j) (0.7071067811865476+0j)\n"
     ]
    }
   ],
   "source": [
    "print(answer)\n",
    "statesim = q.Aer.get_backend('statevector_simulator')\n",
    "ini_vec = [0]*8\n",
    "for i in range(2**3):\n",
    "    ini_vec[i] = 1\n",
    "    print(\"input:\" ,bin(i + 2**3)[3:])\n",
    "    ini_circ = q.QuantumCircuit(4)\n",
    "    ini_circ.initialize(ini_vec,range(3))\n",
    "    ini_circ.initialize([np.sqrt(1/2),-np.sqrt(1/2)],3)\n",
    "    oracle2 = ini_circ.compose(oracle)\n",
    "    out = q.execute(oracle2,statesim).result().get_statevector()\n",
    "    print(out.data[i],out.data[(i+8)%(2**4)])\n",
    "    ini_vec[i] = 0"
   ]
  },
  {
   "cell_type": "code",
   "execution_count": 122,
   "id": "603eb60f",
   "metadata": {},
   "outputs": [],
   "source": [
    "su = oracle.to_gate(label=\"$S_u$\")"
   ]
  },
  {
   "cell_type": "markdown",
   "id": "cfc99cc8",
   "metadata": {},
   "source": [
    "## Operador de dispersión"
   ]
  },
  {
   "cell_type": "code",
   "execution_count": 111,
   "id": "dfd9ad1b",
   "metadata": {},
   "outputs": [],
   "source": [
    "def S0(n):\n",
    "    \"\"\"\n",
    "    \n",
    "    \"\"\"\n",
    "    d_circuit = q.QuantumCircuit(n+1)\n",
    "    \n",
    "    inverted = []\n",
    "    d_circuit.h(range(n))\n",
    "    d_circuit.x(range(n))\n",
    "    \n",
    "    mc_gate = q.circuit.library.standard_gates.XGate().control(n)\n",
    "    d_circuit.append(mc_gate,range(n+1))\n",
    "    \n",
    "    d_circuit.x(range(n))\n",
    "    d_circuit.h(range(n))\n",
    "    \n",
    "    d_circuit.draw(\"mpl\")\n",
    "\n",
    "    return d_circuit"
   ]
  },
  {
   "cell_type": "code",
   "execution_count": 119,
   "id": "2b0b8309",
   "metadata": {},
   "outputs": [
    {
     "data": {
      "image/png": "[encoded data removed]",
      "text/plain": [
       "<Figure size 387.597x264.88 with 1 Axes>"
      ]
     },
     "execution_count": 119,
     "metadata": {},
     "output_type": "execute_result"
    }
   ],
   "source": [
    "so = S0(3)\n",
    "so.draw(\"mpl\")"
   ]
  },
  {
   "cell_type": "code",
   "execution_count": 120,
   "id": "675e4c77",
   "metadata": {
    "scrolled": true
   },
   "outputs": [
    {
     "name": "stdout",
     "output_type": "stream",
     "text": [
      "[0.35355339 0.35355339 0.35355339 0.35355339 0.35355339 0.35355339\n",
      " 0.35355339 0.35355339]\n",
      "[-0.25-9.18485099e-17j -0.25-1.22464680e-16j -0.25-1.22464680e-16j\n",
      " -0.25-1.53080850e-16j -0.25-1.22464680e-16j -0.25-1.53080850e-16j\n",
      " -0.25-1.53080850e-16j -0.25-1.83697020e-16j  0.25+9.18485099e-17j\n",
      "  0.25+1.22464680e-16j  0.25+1.22464680e-16j  0.25+1.53080850e-16j\n",
      "  0.25+1.22464680e-16j  0.25+1.53080850e-16j  0.25+1.53080850e-16j\n",
      "  0.25+1.83697020e-16j]\n"
     ]
    }
   ],
   "source": [
    "ini_vec = np.array([np.sqrt(2**-3)]*(2**3))\n",
    "\n",
    "#ini_vec[4:] = -ini_vec[4:]\n",
    "print(ini_vec)\n",
    "ini_circ = q.QuantumCircuit(4)\n",
    "ini_circ.initialize(ini_vec,range(3))\n",
    "ini_circ.initialize([np.sqrt(1/2),-np.sqrt(1/2)],3)\n",
    "s0_test = ini_circ.compose(s0)\n",
    "out = q.execute(s0_test,statesim).result().get_statevector()\n",
    "print(out.data)"
   ]
  },
  {
   "cell_type": "code",
   "execution_count": 121,
   "id": "67281222",
   "metadata": {},
   "outputs": [],
   "source": []
  },
  {
   "cell_type": "markdown",
   "id": "38631b18",
   "metadata": {},
   "source": [
    "## Amplificación de amplitud\n"
   ]
  },
  {
   "cell_type": "code",
   "execution_count": 260,
   "id": "9f888112",
   "metadata": {},
   "outputs": [
    {
     "name": "stdout",
     "output_type": "stream",
     "text": [
      "011\n"
     ]
    },
    {
     "data": {
      "image/png": "[encoded data removed]",
      "text/plain": [
       "<Figure size 628.397x325.08 with 1 Axes>"
      ]
     },
     "execution_count": 260,
     "metadata": {},
     "output_type": "execute_result"
    }
   ],
   "source": [
    "N = 3\n",
    "s0 = S0(N).to_gate(label=\"$S_O$\")\n",
    "answer,su = random_oracle(N)\n",
    "print(answer)\n",
    "su = su.to_gate(label=\"$S_u$\")\n",
    "grover = q.QuantumCircuit(N+1,N)\n",
    "grover.x(N)\n",
    "grover.h(range(N+1))\n",
    "\n",
    "grover.barrier()\n",
    "\n",
    "reps = 2\n",
    "for i in range(reps):\n",
    "    grover.append(su,range(N+1))\n",
    "    grover.append(s0,range(N+1))\n",
    "    grover.barrier()\n",
    "    \n",
    "grover.draw(\"mpl\")"
   ]
  },
  {
   "cell_type": "code",
   "execution_count": 261,
   "id": "4c21fb75",
   "metadata": {},
   "outputs": [
    {
     "name": "stdout",
     "output_type": "stream",
     "text": [
      "Statevector([-0.0625-1.91351062e-17j, -0.0625-2.67891487e-17j,\n",
      "             -0.0625-2.67891487e-17j,  0.6875+7.76885313e-16j,\n",
      "             -0.0625-4.20972337e-17j, -0.0625-6.50593612e-17j,\n",
      "             -0.0625-6.50593612e-17j, -0.0625-5.74053187e-17j,\n",
      "              0.0625-1.14810637e-17j,  0.0625-3.82702125e-18j,\n",
      "              0.0625-3.82702125e-18j, -0.6875-8.07501483e-16j,\n",
      "              0.0625+1.14810637e-17j,  0.0625+3.44431912e-17j,\n",
      "              0.0625+3.44431912e-17j,  0.0625+2.67891487e-17j],\n",
      "            dims=(2, 2, 2, 2))\n"
     ]
    }
   ],
   "source": [
    "out = q.execute(grover,statesim).result().get_statevector()\n",
    "print(out)"
   ]
  },
  {
   "cell_type": "code",
   "execution_count": 262,
   "id": "c88a59b3",
   "metadata": {},
   "outputs": [],
   "source": [
    "def target_proyection(u,target = \"000\"):\n",
    "    index = 0\n",
    "    for j in range(1,len(target)+1):\n",
    "        if target[-j] == '1':\n",
    "            index += 2**(j-1)\n",
    "    return (u.data[index]-u.data[(index+2**len(target))% (2**(len(target)+1))])/np.sqrt(2)\n"
   ]
  },
  {
   "cell_type": "code",
   "execution_count": 263,
   "id": "c74cc6a6",
   "metadata": {},
   "outputs": [
    {
     "name": "stdout",
     "output_type": "stream",
     "text": [
      "Expected prob:  0.9453125000000017\n"
     ]
    }
   ],
   "source": [
    "print(\"Expected prob: \",np.abs(target_proyection(out,answer))**2)\n"
   ]
  },
  {
   "cell_type": "markdown",
   "id": "92890ed0",
   "metadata": {},
   "source": [
    "## Simulación"
   ]
  },
  {
   "cell_type": "code",
   "execution_count": 264,
   "id": "e4ce6c1d",
   "metadata": {},
   "outputs": [
    {
     "data": {
      "image/png": "[encoded data removed]",
      "text/plain": [
       "<Figure size 808.997x325.08 with 1 Axes>"
      ]
     },
     "execution_count": 264,
     "metadata": {},
     "output_type": "execute_result"
    }
   ],
   "source": [
    "grover.measure(range(N),range(N))\n",
    "grover.draw(\"mpl\")\n"
   ]
  },
  {
   "cell_type": "code",
   "execution_count": 265,
   "id": "a988f481",
   "metadata": {},
   "outputs": [
    {
     "data": {
      "image/png": "[encoded data removed]",
      "text/plain": [
       "<Figure size 504x360 with 1 Axes>"
      ]
     },
     "execution_count": 265,
     "metadata": {},
     "output_type": "execute_result"
    }
   ],
   "source": [
    "simulator = q.Aer.get_backend('aer_simulator')\n",
    "trans = q.transpile(grover,simulator)\n",
    "result = simulator.run(trans).result()\n",
    "counts = result.get_counts(trans)\n",
    "q.visualization.plot_histogram(counts, title='Answer '+answer)"
   ]
  },
  {
   "cell_type": "code",
   "execution_count": null,
   "id": "4e6c88d9",
   "metadata": {},
   "outputs": [],
   "source": []
  }
 ],
 "metadata": {
  "kernelspec": {
   "display_name": "Python 3 (ipykernel)",
   "language": "python",
   "name": "python3"
  },
  "language_info": {
   "codemirror_mode": {
    "name": "ipython",
    "version": 3
   },
   "file_extension": ".py",
   "mimetype": "text/x-python",
   "name": "python",
   "nbconvert_exporter": "python",
   "pygments_lexer": "ipython3",
   "version": "3.9.10"
  }
 },
 "nbformat": 4,
 "nbformat_minor": 5
}
