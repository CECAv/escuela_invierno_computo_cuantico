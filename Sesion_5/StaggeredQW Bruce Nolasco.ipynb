{
 "cells": [
  {
   "cell_type": "markdown",
   "metadata": {},
   "source": [
    "\n",
    "# Implementación de Caminatas Cúanticas Alternadas en Gŕaficas."
   ]
  },
  {
   "cell_type": "markdown",
   "metadata": {},
   "source": [
    "## Preeliminares"
   ]
  },
  {
   "cell_type": "markdown",
   "metadata": {},
   "source": [
    "Importamos los módulos necesarios y definimos funciones auxiliares."
   ]
  },
  {
   "cell_type": "code",
   "execution_count": 1,
   "metadata": {},
   "outputs": [],
   "source": [
    "from qiskit import *\n",
    "from qiskit import QuantumCircuit\n",
    "from qiskit.visualization import plot_histogram,plot_state_city\n",
    "from qiskit.circuit.library import *\n",
    "%matplotlib inline"
   ]
  },
  {
   "cell_type": "code",
   "execution_count": 2,
   "metadata": {},
   "outputs": [],
   "source": [
    "from math import sqrt,log,ceil,floor,asin,pi\n",
    "import numpy as np\n",
    "import matplotlib.pyplot as plt"
   ]
  },
  {
   "cell_type": "markdown",
   "metadata": {},
   "source": [
    "### Funciones para la creación de la matriz de Representaciones Binarias\n",
    "\n",
    "Estas matrices son una representación de los conjuntos de estados de la base computacional que corresponden a cada clique."
   ]
  },
  {
   "cell_type": "code",
   "execution_count": 3,
   "metadata": {},
   "outputs": [],
   "source": [
    "def BinaryRepLSF(n, length = 1):\n",
    "    \"\"\"\n",
    "    Returns an np array of minimum length 'length' integers representing the binary form of\n",
    "    'n'.\n",
    "    \"\"\"\n",
    "    rep = []\n",
    "    power = 0\n",
    "    while n>0:\n",
    "        mul = 2**power\n",
    "        coc = n/(2*mul)\n",
    "        res = (2*mul)*(coc-floor(coc))\n",
    "        rep.append(int(res/mul))\n",
    "        n-=res\n",
    "        power+=1\n",
    "    if len(rep)<length:\n",
    "        for i in range(length -len(rep)):\n",
    "            rep.append(0)\n",
    "    return np.array(rep)"
   ]
  },
  {
   "cell_type": "code",
   "execution_count": 4,
   "metadata": {},
   "outputs": [],
   "source": [
    "def BinaryMatrix(P,length=1):    \n",
    "    BM = [BinaryRepLSF(p, length) for p in P]\n",
    "    return np.array(BM)"
   ]
  },
  {
   "cell_type": "markdown",
   "metadata": {},
   "source": [
    "### Construcción del Árbol de Control"
   ]
  },
  {
   "cell_type": "markdown",
   "metadata": {},
   "source": [
    "A continuación se declara la clase *Node* que utilizamos para construir el arbol de control."
   ]
  },
  {
   "cell_type": "code",
   "execution_count": 5,
   "metadata": {},
   "outputs": [],
   "source": [
    "class Node:\n",
    "    def __init__(self,zb,ob,val = 0,parent = None ,level=None,\n",
    "                 branch = None,rootinfo = None,c = \"\" ):\n",
    "        \"\"\"\n",
    "        Node class for a 'control tree'\n",
    "        \"\"\"\n",
    "        self.parent = parent\n",
    "        self.zb = zb\n",
    "        self.ob = ob\n",
    "        self.branch = branch\n",
    "        self.val = val\n",
    "        self.level = level\n",
    "        if rootinfo != None:\n",
    "            self.rootinfo = rootinfo\n",
    "        self.c = c\n",
    "    def setzb(self,newzb):\n",
    "        self.zb = newzb\n",
    "        newzb.parent = self\n",
    "        newzb.branch = 0\n",
    "        if self.branch != None:\n",
    "            #newzb.c = self.c + str(self.branch)\n",
    "            newzb.c = str(self.branch)+self.c\n",
    "    def setob(self,newob):\n",
    "        self.ob = newob\n",
    "        newob.parent = self\n",
    "        newob.branch = 1\n",
    "        if self.branch != None:\n",
    "            #newob.c = self.c + str(self.branch)\n",
    "            newob.c = str(self.branch)+self.c\n",
    "    def setp(self,newp):\n",
    "        self.parent = p\n",
    "    def getlevel(self):\n",
    "        if self.level == None:\n",
    "            if self.parent == None:\n",
    "                self.level = 0\n",
    "            else:\n",
    "                self.level = self.parent.getlevel()+1\n",
    "        return self.level\n",
    "    def recursive_print(self,rl = None,branch=None):\n",
    "        cl = self.getlevel()\n",
    "        if rl == None:\n",
    "            rl = cl\n",
    "            message = \"\\t\"*(cl-rl)+\"v=\"+str(self.val)+\" croot\"\n",
    "        else:\n",
    "            message = \"\\t\"*(cl-rl)+str(self.branch)+\" v=\"+str(self.val)+\" c=\"+self.c\n",
    "        print(message)\n",
    "        if self.zb != None:\n",
    "            self.zb.recursive_print(rl,0)\n",
    "        if self.ob != None:\n",
    "            self.ob.recursive_print(rl,0)\n",
    "        "
   ]
  },
  {
   "cell_type": "markdown",
   "metadata": {},
   "source": [
    "Aquí definimos la función *BuildControlTree* que construye el árbol de control a partir de la matrix de bits *BM*."
   ]
  },
  {
   "cell_type": "code",
   "execution_count": 6,
   "metadata": {},
   "outputs": [],
   "source": [
    "def BuildControlTree(BM):\n",
    "    \"\"\"\n",
    "    Builds control Tree from BitMatrix BM.\n",
    "    Returns the root node of the control tree.\n",
    "    \"\"\"\n",
    "    root = Node(None,None,val = 1,rootinfo = {})\n",
    "    subBCT(BM,root)\n",
    "    return root\n",
    "\n",
    "def subBCT(subBM,p=None):\n",
    "    \"\"\"\n",
    "    Main subroutine of BuilControlTree.\n",
    "    \"\"\"\n",
    "    #print(subBM)\n",
    "    brl = len(subBM[0])\n",
    "    t = len(subBM)\n",
    "    s = 0\n",
    "    obm = []\n",
    "    zbm = []\n",
    "    for brep in subBM:\n",
    "        if brep[0] == 1:\n",
    "            s+=1\n",
    "            obm.append(brep[1:])\n",
    "        else:\n",
    "            zbm.append(brep[1:])\n",
    "    obm = np.array(obm)\n",
    "    zbm = np.array(zbm)\n",
    "    ob = Node(None,None,s/t,branch= 1)\n",
    "    zb = Node(None,None,1-(s/t),branch= 0)\n",
    "    p.setob(ob)\n",
    "    p.setzb(zb)\n",
    "    if brl != 1:\n",
    "        if 0<s<t:\n",
    "            #print(\"Both branches called.\")\n",
    "            subBCT(obm,ob)\n",
    "            subBCT(zbm,zb)\n",
    "        elif s==0:\n",
    "            #print(\"Only 0 branch called.\")\n",
    "            #print(zbm)\n",
    "            subBCT(zbm,zb)\n",
    "        elif s==t:\n",
    "            #print(\"Only 1 branch called.\")\n",
    "            #print(obm)\n",
    "            subBCT(obm,ob)"
   ]
  },
  {
   "cell_type": "markdown",
   "metadata": {},
   "source": [
    "A continuación definimos *sCRYGate*. "
   ]
  },
  {
   "cell_type": "code",
   "execution_count": 7,
   "metadata": {},
   "outputs": [],
   "source": [
    "def sCRYGate(s,c = \"\", inv = False):\n",
    "    \"\"\"\n",
    "    Given an s value and a clist of previous control qubits\n",
    "    builds a controled Y Rotation Gate.\n",
    "    \"\"\"\n",
    "    theta =2* asin(sqrt(abs(s)))\n",
    "    if inv:\n",
    "        theta = -theta\n",
    "    if len(c)>0:\n",
    "        #print(\"Crate RY(%.2f) con C = %s\"%(theta,c))\n",
    "        return RYGate(theta).control(len(c),\"\",c)\n",
    "    else:\n",
    "        return RYGate(theta)\n",
    "\n",
    "def WGate(rootn,n):\n",
    "    \"\"\"\n",
    "    Builds the WGate of P_i given the root node of the\n",
    "    control tree of P_i on the quantum Circuit qc.\n",
    "    Returns qc as a Gate Object.\n",
    "    \"\"\"\n",
    "    \n",
    "    qc = QuantumCircuit(n)\n",
    "    #The queue for BFS is initialized.\n",
    "    queue = [rootn.ob,rootn.zb]\n",
    "    s = rootn.ob.val\n",
    "    qc.append(sCRYGate(s,rootn.c),[0])\n",
    "    #Main Loop of BFS\n",
    "    #queue = [rootn]\n",
    "    while len(queue) > 0:\n",
    "        #print([str(nd.c)+str(nd.branch) for nd in queue])\n",
    "        active = queue.pop(0)\n",
    "        #c= active.c+str(active.branch)\n",
    "        c= str(active.branch)+active.c\n",
    "        #print(c)\n",
    "        if active.ob != None:\n",
    "            s = active.ob.val\n",
    "            cs = range(len(c)+1)\n",
    "            if  s!=0:\n",
    "                gate = sCRYGate(s,c)\n",
    "                qc.append(gate,cs)\n",
    "                #print(\"Added YRot(%.2f) with target %i and controls %s\"%(s,len(c),cs))\n",
    "            queue.append(active.ob)\n",
    "        if active.zb != None:\n",
    "            queue.append(active.zb)\n",
    "    return qc.to_gate()\n",
    "\n",
    "def WGateInv(rootn,n):\n",
    "    \"\"\"\n",
    "    Builds the $W^\\dagger$ Gate of $P$ given the root node of the\n",
    "    control tree of $P$ on the quantum Circuit qc.\n",
    "    Returns qc as a Gate Object.\n",
    "    \"\"\"\n",
    "    qc = QuantumCircuit(n)\n",
    "    #The queue for BFS is initialized.\n",
    "    queue = [rootn.ob,rootn.zb]\n",
    "    s = rootn.ob.val\n",
    "    qc.append(sCRYGate(s,rootn.c,True),[0])\n",
    "    #Main Loop of BFS\n",
    "    while len(queue) > 0:\n",
    "        #Get the first node in the queue\n",
    "        active = queue.pop(0)\n",
    "        c= str(active.branch)+active.c\n",
    "        if active.ob != None:\n",
    "            s = active.ob.val\n",
    "            cs = range(len(c)+1)\n",
    "            #If the required rotation is not trivial proceed\n",
    "            if  s!=0:\n",
    "                #Creates and adds to the circuit a\n",
    "                # controlet RY Gate with control state s\n",
    "                gate = sCRYGate(s,c,True)\n",
    "                qc.append(gate,cs)\n",
    "            #Adds the o-branch of active to the queue\n",
    "            queue.append(active.ob)\n",
    "        if active.zb != None:\n",
    "            #Adds the z-branch of active to the queue\n",
    "            queue.append(active.zb)\n",
    "    return qc.to_gate().mirror()\n",
    "\n",
    "def W(P, N = 0):\n",
    "    \"\"\"\n",
    "    Given the list $P$ builds the $W_P$ gate with $N$\n",
    "    qubit registers. Returns a Gate Object.\n",
    "    \"\"\"\n",
    "    M = max(P)\n",
    "    if N == 0:\n",
    "        while M>=2**N:\n",
    "            N += 1\n",
    "    rootp = BuildControlTree(BinaryMatrix(P,N))\n",
    "    G = WGate(rootp,N)\n",
    "    G.label = \"$W_{\"+str(P)+\"}$\"\n",
    "    return G\n",
    "\n",
    "def WInv(P, N = 0):\n",
    "    \"\"\"\n",
    "    Given the list $P$ builds the $W_P^\\dagger$ gate with $N$\n",
    "    qubit registers. Returns a Gate Object.\n",
    "    \"\"\"\n",
    "    M = max(P)\n",
    "    if N == 0:\n",
    "        while M>=2**N:\n",
    "            N += 1\n",
    "    rootp = BuildControlTree(BinaryMatrix(P,N))\n",
    "    G = WGateInv(rootp,N)\n",
    "    G.label = \"$W^\\dagger_{\"+str(P)+\"}$\"\n",
    "    return G\n",
    "\n",
    "\n"
   ]
  },
  {
   "cell_type": "markdown",
   "metadata": {},
   "source": [
    "Mostramos un ejemplo usando $P=[5,1]$ a 4 *qubits*."
   ]
  },
  {
   "cell_type": "code",
   "execution_count": 8,
   "metadata": {},
   "outputs": [],
   "source": [
    "NQ = 4\n",
    "Q = QuantumCircuit(NQ,NQ)\n",
    "Q.append(W([5,1,2],NQ),range(NQ))\n",
    "#Q.append(WInv([5,1],NQ),range(NQ))\n",
    "#Q.append(WGateInv(r,3),range(3))\n",
    "#Q.add_register(ClassicalRegister(3))\n",
    "\n",
    "for i in range(NQ):\n",
    "    Q.measure(i,i)"
   ]
  },
  {
   "cell_type": "code",
   "execution_count": 9,
   "metadata": {
    "scrolled": true
   },
   "outputs": [
    {
     "data": {
      "image/png": "[encoded data removed]",
      "text/plain": [
       "<Figure size 447.797x325.08 with 1 Axes>"
      ]
     },
     "execution_count": 9,
     "metadata": {},
     "output_type": "execute_result"
    }
   ],
   "source": [
    "Q.decompose().draw(output=\"mpl\")"
   ]
  },
  {
   "cell_type": "markdown",
   "metadata": {},
   "source": [
    "Simulando este circuito vemos que tenemos la misma probabilidad de medir $5$, $2$ o $1$ pues el estado final del circuito es $\\frac{1}{\\sqrt{3}} (\\left| 1\\right>+\\left| 2\\right>+\\left| 5\\right>)$"
   ]
  },
  {
   "cell_type": "code",
   "execution_count": 10,
   "metadata": {},
   "outputs": [
    {
     "data": {
      "image/png": "[encoded data removed]",
      "text/plain": [
       "<Figure size 504x360 with 1 Axes>"
      ]
     },
     "execution_count": 10,
     "metadata": {},
     "output_type": "execute_result"
    }
   ],
   "source": [
    "qasm = Aer.get_backend('qasm_simulator')\n",
    "job = execute(Q, qasm, shots=4000)\n",
    "result = job.result()\n",
    "counts = result.get_counts(Q)\n",
    "plot_histogram(counts)"
   ]
  },
  {
   "cell_type": "markdown",
   "metadata": {},
   "source": [
    "## Operadores de Difusión"
   ]
  },
  {
   "cell_type": "markdown",
   "metadata": {},
   "source": [
    "### Operador de Difusión de Grover"
   ]
  },
  {
   "cell_type": "code",
   "execution_count": 11,
   "metadata": {
    "scrolled": true
   },
   "outputs": [],
   "source": [
    "def S_0(N):\n",
    "    \"\"\"\n",
    "    Returns Grover's $S_0$ gate with N qubit entries.\n",
    "    \"\"\"\n",
    "    qc = QuantumCircuit(N)\n",
    "    qc.x(N-1)\n",
    "    S = ZGate().control(N-1, \"\",\"0\"*(N-1))\n",
    "    qc.append(S,range(N))\n",
    "    qc.x(N-1)\n",
    "    G = qc.to_gate()\n",
    "    G.label = \"S_0\"\n",
    "    return G"
   ]
  },
  {
   "cell_type": "markdown",
   "metadata": {},
   "source": [
    "Ejemplo de $S_0(4)$:"
   ]
  },
  {
   "cell_type": "code",
   "execution_count": 12,
   "metadata": {},
   "outputs": [
    {
     "data": {
      "image/png": "[encoded data removed]",
      "text/plain": [
       "<Figure size 267.197x264.88 with 1 Axes>"
      ]
     },
     "execution_count": 12,
     "metadata": {},
     "output_type": "execute_result"
    }
   ],
   "source": [
    "NQ = 4\n",
    "Q = QuantumCircuit(NQ)\n",
    "Q.append(S_0(NQ),range(NQ))\n",
    "Q.decompose().draw(output= \"mpl\")"
   ]
  },
  {
   "cell_type": "markdown",
   "metadata": {},
   "source": [
    "Introducimos el estado $\\left.|0\\right>$ y vemos que efectivamente cambia de signo. Es decir, es una implementación de $-S_0$ tal como es planteada en el texto, sin embargo sólo introduce un factor de fase global a diferencia de $S_0$. Esto será corregido posteriormente con la implementación de $\\mathcal{U}$."
   ]
  },
  {
   "cell_type": "code",
   "execution_count": 13,
   "metadata": {},
   "outputs": [
    {
     "data": {
      "text/plain": [
       "array([-1.-7.82877306e-16j,  0.+0.00000000e+00j,  0.+0.00000000e+00j,\n",
       "        0.+0.00000000e+00j,  0.+0.00000000e+00j,  0.+0.00000000e+00j,\n",
       "        0.+0.00000000e+00j,  0.+0.00000000e+00j,  0.+0.00000000e+00j,\n",
       "        0.+0.00000000e+00j,  0.+0.00000000e+00j,  0.+0.00000000e+00j,\n",
       "        0.+0.00000000e+00j,  0.+0.00000000e+00j,  0.+0.00000000e+00j,\n",
       "        0.+0.00000000e+00j])"
      ]
     },
     "execution_count": 13,
     "metadata": {},
     "output_type": "execute_result"
    }
   ],
   "source": [
    "backend = BasicAer.get_backend('statevector_simulator') # the device to run on\n",
    "result = execute(Q, backend).result()\n",
    "psi  = result.get_statevector(Q)\n",
    "psi"
   ]
  },
  {
   "cell_type": "markdown",
   "metadata": {},
   "source": [
    "## Operador de Difusión $S_P$"
   ]
  },
  {
   "cell_type": "markdown",
   "metadata": {},
   "source": [
    "Con todo esto finalmente podemos contruir la función que construye la compuerta $S_{P} = W_P S_0 W_P^\\dagger$ dado $P$."
   ]
  },
  {
   "cell_type": "code",
   "execution_count": 14,
   "metadata": {},
   "outputs": [],
   "source": [
    "def S(P,N):\n",
    "    \"\"\"\n",
    "    Given P a polygon, as a list, and N \n",
    "    returns the Difussion Gate of P with N quibits. \n",
    "    \"\"\"\n",
    "    qc = QuantumCircuit(N)\n",
    "    qc.append(WInv(P,N),range(N))\n",
    "    qc.append(S_0(N),range(N))\n",
    "    qc.append(W(P,N),range(N))\n",
    "    G = qc.to_gate()\n",
    "    G.label = \"$S_{\"+str(P)+\"}$\"\n",
    "    return G\n"
   ]
  },
  {
   "cell_type": "markdown",
   "metadata": {},
   "source": [
    "Presentamos un ejemplo con $P = [0,2]$ a $3$ *qubits*. Vemos que al introducir $\\frac{1}{\\sqrt{2}}\\left(\\left| 0\\right>+\\left| 2\\right>\\right)$ obtenemos el mismo estado pues implementamos $-S_0$ en lugar de $S_0$."
   ]
  },
  {
   "cell_type": "code",
   "execution_count": 15,
   "metadata": {},
   "outputs": [
    {
     "data": {
      "image/png": "[encoded data removed]",
      "text/plain": [
       "<Figure size 387.597x204.68 with 1 Axes>"
      ]
     },
     "execution_count": 15,
     "metadata": {},
     "output_type": "execute_result"
    }
   ],
   "source": [
    "Q = QuantumCircuit(3)\n",
    "Q.initialize([1/sqrt(2),0,1/sqrt(2),0,0,0,0,0],range(0,3))\n",
    "Q.append(S([0,2],3),range(3))\n",
    "\n",
    "Q.draw(output='mpl')"
   ]
  },
  {
   "cell_type": "code",
   "execution_count": 16,
   "metadata": {},
   "outputs": [
    {
     "name": "stdout",
     "output_type": "stream",
     "text": [
      "[-0.70710678-1.26164559e-15j  0.        +0.00000000e+00j\n",
      " -0.70710678-1.23310295e-15j  0.        +0.00000000e+00j\n",
      "  0.        +0.00000000e+00j  0.        +0.00000000e+00j\n",
      "  0.        +0.00000000e+00j  0.        +0.00000000e+00j]\n"
     ]
    }
   ],
   "source": [
    "qasm = Aer.get_backend('qasm_simulator')\n",
    "backend = BasicAer.get_backend('statevector_simulator') # the device to run on\n",
    "result = execute(Q, backend).result()\n",
    "psi  = result.get_statevector(Q)\n",
    "print(psi)"
   ]
  },
  {
   "cell_type": "markdown",
   "metadata": {},
   "source": [
    "Sin embargo si introducimos cualquier estado que no tenga componente en $\\left|\\beta_P \\right>$ solo cambia de signo. En este ejemplo introducimos $\\frac{1}{\\sqrt{2}}\\left(\\left| 1\\right>+\\left| 3\\right>\\right)$"
   ]
  },
  {
   "cell_type": "code",
   "execution_count": 17,
   "metadata": {},
   "outputs": [
    {
     "data": {
      "image/png": "[encoded data removed]",
      "text/plain": [
       "<Figure size 387.597x204.68 with 1 Axes>"
      ]
     },
     "execution_count": 17,
     "metadata": {},
     "output_type": "execute_result"
    }
   ],
   "source": [
    "Q = QuantumCircuit(3)\n",
    "Q.initialize([0,1/sqrt(2),0,1/sqrt(2),0,0,0,0],range(0,3))\n",
    "Q.append(S([0,2],3),range(3))\n",
    "\n",
    "Q.draw(output='mpl')\n"
   ]
  },
  {
   "cell_type": "code",
   "execution_count": 18,
   "metadata": {},
   "outputs": [],
   "source": [
    "qasm = Aer.get_backend('qasm_simulator')\n",
    "backend = BasicAer.get_backend('statevector_simulator') # the device to run on\n",
    "result = execute(Q, backend).result()\n",
    "psi  = result.get_statevector(Q)\n"
   ]
  },
  {
   "cell_type": "markdown",
   "metadata": {},
   "source": [
    "El estado Final es:"
   ]
  },
  {
   "cell_type": "code",
   "execution_count": 19,
   "metadata": {},
   "outputs": [
    {
     "name": "stdout",
     "output_type": "stream",
     "text": [
      "[0.        +0.00000000e+00j 0.70710678+1.21625936e-15j\n",
      " 0.        +0.00000000e+00j 0.70710678+1.14845276e-15j\n",
      " 0.        +0.00000000e+00j 0.        +0.00000000e+00j\n",
      " 0.        +0.00000000e+00j 0.        +0.00000000e+00j]\n"
     ]
    }
   ],
   "source": [
    "print(psi)"
   ]
  },
  {
   "cell_type": "markdown",
   "metadata": {},
   "source": [
    "Vemos que el estado final y el inicial sólo difieren en un signo."
   ]
  },
  {
   "cell_type": "markdown",
   "metadata": {},
   "source": [
    "### Implentación de $\\mathcal{U}$ y $\\mathcal{H}$\n",
    "Utilizamos la implementación desarrollada en el texto.  La funcion $\\mathcal{U}_\\mathcal{T} (\\mathcal{T},\\tau,N)$ toma la teselación $\\mathcal{T}$ y devuelve la compuerta $\\mathcal{U}(\\tau)$ a $N+1$ *qubits* (automaticamente añade el qubit de control en la última posición)."
   ]
  },
  {
   "cell_type": "code",
   "execution_count": 20,
   "metadata": {
    "scrolled": true
   },
   "outputs": [],
   "source": [
    "def H(T,N,tname = \"\"):\n",
    "    \"\"\"\n",
    "    Expects T a tesselation as a List of Lists and N the number of\n",
    "    qubits required for the vertex space.\n",
    "    Returns the hamiltonian Gate object with N entries.\n",
    "    \"\"\"\n",
    "    qc = QuantumCircuit(N,name=\"$\\mathcal{H}_{\"+tname+\"}$\")\n",
    "    #Computes the Difussion Gate por every polygon in the tessellation\n",
    "    for P in T:\n",
    "        qc.append(S(P,N),range(N))\n",
    "    HG = qc.to_gate()\n",
    "    \n",
    "    HG.label = \"$\\mathcal{H}_{$\"+str(T)+\"}$\"\n",
    "    return HG\n",
    "\n",
    "def U(T,tau, N,tname=\"\" ):\n",
    "    \"\"\"\n",
    "    Expects T a tesselation as a List of Lists, tau a real number and N the number of\n",
    "    qubits required for the vertex space.\n",
    "    Returns the U Gate object with N+1 entries. Adds a control qubit at the end of the quantum\n",
    "    register.\n",
    "    \"\"\"\n",
    "    #Definition of the controlled hamiltonian gate\n",
    "    CH = H(T,N,tname).control(1)\n",
    "    CH.label = \"$C-\\mathcal{H}_{\"+str(T)+\"}$\"\n",
    "    cs = [N]+[i for i in range(0,N)]\n",
    "    \n",
    "    #Initialize the template circuit\n",
    "    qc = QuantumCircuit(N+1,name =\"$\\mathcal{U}(\"+str(tau)+\")_{\"+tname+\"}$\")\n",
    "    \n",
    "    #Adding the gates according to 4.13\n",
    "    qc.h(N)\n",
    "    qc.append(CH,cs)\n",
    "    qc.z(N)\n",
    "    qc.rx(-2*tau,N)\n",
    "    qc.append(CH,cs)\n",
    "    #qc.z(N)\n",
    "    qc.h(N)\n",
    "    qc.x(N)\n",
    "    \n",
    "    #Label and convert to gate the quantum circuit qc\n",
    "    UG = qc.to_gate()\n",
    "    UG.label = \"$\\mathcal{U}(\"+str(tau)+\")_{\"+tname+\"}$\"\n",
    "    return UG\n",
    "\n"
   ]
  },
  {
   "cell_type": "markdown",
   "metadata": {},
   "source": [
    "Mostramos un ejemplo con 3 *qubits*."
   ]
  },
  {
   "cell_type": "code",
   "execution_count": 21,
   "metadata": {},
   "outputs": [
    {
     "data": {
      "image/png": "[encoded data removed]",
      "text/plain": [
       "<Figure size 628.397x264.88 with 1 Axes>"
      ]
     },
     "execution_count": 21,
     "metadata": {},
     "output_type": "execute_result"
    }
   ],
   "source": [
    "Q = QuantumCircuit(3+1)\n",
    "\"\"\"Q.initialize(\n",
    "[\n",
    "    0,0,0,0,\n",
    "    1,0,0,0,\n",
    "    0,0,0,0,\n",
    "    0,0,0,0\n",
    "],range(0,4)\n",
    ")\"\"\"\n",
    "Q.append(U([[2]],0.7,3),range(3+1))\n",
    "Q.decompose().draw(output='mpl')"
   ]
  },
  {
   "cell_type": "code",
   "execution_count": 22,
   "metadata": {},
   "outputs": [
    {
     "name": "stdout",
     "output_type": "stream",
     "text": [
      "[ 7.64842187e-01-6.44217687e-01j  0.00000000e+00+0.00000000e+00j\n",
      "  0.00000000e+00+0.00000000e+00j  0.00000000e+00+0.00000000e+00j\n",
      "  0.00000000e+00+0.00000000e+00j  0.00000000e+00+0.00000000e+00j\n",
      "  0.00000000e+00+0.00000000e+00j  0.00000000e+00+0.00000000e+00j\n",
      " -1.16573418e-15+4.99600361e-16j  0.00000000e+00+0.00000000e+00j\n",
      "  0.00000000e+00+0.00000000e+00j  0.00000000e+00+0.00000000e+00j\n",
      "  0.00000000e+00+0.00000000e+00j  0.00000000e+00+0.00000000e+00j\n",
      "  0.00000000e+00+0.00000000e+00j  0.00000000e+00+0.00000000e+00j]\n"
     ]
    }
   ],
   "source": [
    "qasm = Aer.get_backend('qasm_simulator')\n",
    "backend = BasicAer.get_backend('statevector_simulator') # the device to run on\n",
    "result = execute(Q, backend).result()\n",
    "psi  = result.get_statevector(Q)\n",
    "print(psi)"
   ]
  },
  {
   "cell_type": "markdown",
   "metadata": {},
   "source": [
    "# Construcción del Modelo para una Gráfica Arbitraria"
   ]
  },
  {
   "cell_type": "markdown",
   "metadata": {},
   "source": [
    "Usamos el módulo _networkx_ para crear y manipular gráficas."
   ]
  },
  {
   "cell_type": "code",
   "execution_count": 23,
   "metadata": {},
   "outputs": [],
   "source": [
    "import networkx as nx"
   ]
  },
  {
   "cell_type": "markdown",
   "metadata": {},
   "source": [
    "Creamos una pequeña gráfica aleatoria $G$ de $n$ vértices y $m$ aristas."
   ]
  },
  {
   "cell_type": "code",
   "execution_count": null,
   "metadata": {},
   "outputs": [],
   "source": [
    "n = 6\n",
    "m = 5\n",
    "G = nx.dense_gnm_random_graph(n, m)\n",
    "while not nx.is_connected(G):\n",
    "    G = nx.dense_gnm_random_graph(n, m)\n",
    "nx.draw_spring(G,with_labels= True,font_size=12,font_weight='bold',node_color='#9494e4')"
   ]
  },
  {
   "cell_type": "markdown",
   "metadata": {},
   "source": [
    "Generamos listas y diccionarios que nos permiten relacionar los vertices de $H$ *extG* con la gráfica original $G$. Simultaneamente creamos la teselación de vertices $\\mathcal{T}_V$ y la de aristas $\\mathcal{T}_E$."
   ]
  },
  {
   "cell_type": "code",
   "execution_count": null,
   "metadata": {
    "scrolled": true
   },
   "outputs": [],
   "source": [
    "\n",
    "#Given the H vertex number returns a G vertex number\n",
    "ExtGtoG = []\n",
    "#Given the G vertex number returns the list of G vertex numbers\n",
    "GtoExtG = []\n",
    "#Given a (u,v) pair of G vertices returns the H vertex number\n",
    "PairtoExtG = {}\n",
    "#Given the H vertex number returns the (u,v) pair of G vertices \n",
    "ExtGtoPair = []\n",
    "\n",
    "T_V = []\n",
    "T_E = []\n",
    "\n",
    "ExtGVertexNumber = 0\n",
    "#Iteration over the G vertices\n",
    "for v in G.nodes():\n",
    "    #print(\"v =\",v)\n",
    "    vlist = []\n",
    "    #Iteration over the neighbourhood of v\n",
    "    for u in G.adj[v]:\n",
    "        #print(\"\\t\",u,\"\\t\",ExtGVertexNumber)\n",
    "        PairtoExtG[(v,u)]=ExtGVertexNumber\n",
    "        ExtGtoG.append(v)\n",
    "        ExtGtoPair.append((v,u))\n",
    "        vlist.append(ExtGVertexNumber)\n",
    "        ExtGVertexNumber +=1\n",
    "    GtoExtG.append(vlist)\n",
    "\n",
    "#The vertex tesellation is given directly by \n",
    "T_V = GtoExtG\n",
    "print(\"T_V = \",T_V)\n",
    "\n",
    "for pair in G.edges():\n",
    "    v = pair[0]\n",
    "    u = pair[1]\n",
    "    p_E = [PairtoExtG[(v,u)],PairtoExtG[(u,v)]]\n",
    "    T_E.append(p_E)\n",
    "print(\"T_E = \",T_E)"
   ]
  },
  {
   "cell_type": "markdown",
   "metadata": {},
   "source": [
    "Esta es una función auxiliar para generar las subgráficas completas."
   ]
  },
  {
   "cell_type": "code",
   "execution_count": null,
   "metadata": {},
   "outputs": [],
   "source": [
    "import itertools\n",
    "\n",
    "def complete_graph_from_list(L):\n",
    "    Ga = nx.empty_graph(len(L))\n",
    "    if len(L)>1:\n",
    "        edges = itertools.combinations(L,2)\n",
    "        Ga.add_edges_from(edges)\n",
    "    return Ga"
   ]
  },
  {
   "cell_type": "markdown",
   "metadata": {},
   "source": [
    "Aquí generamos y mostramos la grafica extendida $H$."
   ]
  },
  {
   "cell_type": "code",
   "execution_count": null,
   "metadata": {},
   "outputs": [],
   "source": [
    "ExtG = nx.Graph()\n",
    "\n",
    "#Generation of complete subgraphs of H\n",
    "for v in G.nodes():\n",
    "    ExtG= nx.compose(complete_graph_from_list(GtoExtG[v]),ExtG)\n",
    "#Linking the complete subgraphs\n",
    "for p_E in T_E:\n",
    "    ExtG.add_edge(p_E[0],p_E[1])\n",
    "pairlabels = {}\n",
    "for v in ExtG.nodes():\n",
    "    pairlabels[v] = str(ExtGtoPair[v])+\" : \"+str(v)\n",
    "\n",
    "nx.draw_spring(ExtG,labels=pairlabels,font_size=10,font_weight='bold',node_color='#A4A4F4')"
   ]
  },
  {
   "cell_type": "markdown",
   "metadata": {},
   "source": [
    "Ahora procedemos a implementar una SQW en la gráfica extendida con las teselaciones $\\mathcal{T}_V$ y $\\mathcal{T}_E$ usando las funciones descritas en las secciones anteriores. El siguiente código genera un cirucito cuántico que realiza la caminata con un número de iteraciones *steps* y $\\tau = \\pi/2$."
   ]
  },
  {
   "cell_type": "code",
   "execution_count": null,
   "metadata": {},
   "outputs": [],
   "source": [
    "NV = ceil(log(m,2)+1)\n",
    "steps = 3\n",
    "tau = pi/2\n",
    "SQW = QuantumCircuit(NV+1,name=\"$SQW^{%i}_{\\tau = %.2f}$\"%(steps,tau))\n",
    "#Calculation of the evolution gates\n",
    "U_V = U(T_V,tau,NV,tname=\"V\")\n",
    "U_E = U(T_E,tau,NV,tname=\"E\")\n",
    "#Repeated alternation of the evolution gates\n",
    "for i in range(steps):\n",
    "    SQW.append(U_V,range(NV+1))\n",
    "    SQW.append(U_E,range(NV+1))\n",
    "#SQW = SQW.to_gate()\n",
    "\n",
    "#for i in range(NV):\n",
    "#    SQW.measure(i,i)\n",
    "SQW.draw(output='mpl')"
   ]
  },
  {
   "cell_type": "markdown",
   "metadata": {},
   "source": [
    "### Page Rank"
   ]
  },
  {
   "cell_type": "markdown",
   "metadata": {},
   "source": [
    "En esta sección implementamos nuestra aproximación al algoritmo *PageRank* utilizando una SQW."
   ]
  },
  {
   "cell_type": "code",
   "execution_count": null,
   "metadata": {},
   "outputs": [],
   "source": [
    "\n",
    "steps =20\n",
    "tau = pi/2\n",
    "SQW = QuantumCircuit(NV+1,name=\"$SQW^{%i}_{\\tau = %.2f}$\"%(steps,tau))\n",
    "#Calculation of the evolution gates\n",
    "U_V = U(T_V,tau,NV,tname=\"V\")\n",
    "U_E = U(T_E,tau,NV,tname=\"E\")\n",
    "#Repeated alternation of the evolution gates\n",
    "for i in range(steps):\n",
    "    SQW.append(U_V,range(NV+1))\n",
    "    SQW.append(U_E,range(NV+1))\n",
    "SQW = SQW.to_gate()"
   ]
  },
  {
   "cell_type": "markdown",
   "metadata": {},
   "source": [
    "Inicializamos el sistema en una superposición homogénea de todos los vértices de la gráfica extendida. Esto lo logramos mediante la aplicación de una compuerta $W_{V_H}$."
   ]
  },
  {
   "cell_type": "code",
   "execution_count": null,
   "metadata": {},
   "outputs": [],
   "source": [
    "\n",
    "QPR = QuantumCircuit(NV+1,NV)\n",
    "QPR.append(W(range(2*m),NV),range(NV))\n",
    "QPR.append(SQW,range(NV+1))\n",
    "\n",
    "for i in range(NV):\n",
    "    QPR.measure(i,i)"
   ]
  },
  {
   "cell_type": "code",
   "execution_count": null,
   "metadata": {},
   "outputs": [],
   "source": [
    "#circ = transpile(QPR, qasm, optimization_level=1)"
   ]
  },
  {
   "cell_type": "markdown",
   "metadata": {},
   "source": [
    "Simulamos el circuito y medimos el estado de los *qubits* corrspondientes a los vértices al final de cada experimento.\n",
    "\n",
    "**Esta celda es computacionalmente intensiva.**"
   ]
  },
  {
   "cell_type": "code",
   "execution_count": null,
   "metadata": {},
   "outputs": [],
   "source": [
    "\n",
    "job = execute(QPR, qasm, shots=400)\n",
    "result = job.result()\n",
    "counts = result.get_counts(QPR)\n",
    "plot_histogram(counts)"
   ]
  },
  {
   "cell_type": "markdown",
   "metadata": {},
   "source": [
    "Usando las listas creadas al momento de extender la gráfica $G$ convertimos los datos anteriores en un histograma sobre los vértices de $G$. Graficamos la probabilidad de medir la partícula en cada vértice con barras azules en la figura siguiente. Esta probabilidad corresponde con el *PageRank* de cada partícula.\n",
    "\n",
    "El módulo *networkx* provee una implementación del algoritmo *PageRank* clásico mediante la función *pagerank*. Graficamos los resultados del algoritmo clásico con barras naranjas y los comparamos con nuestra propuesta cuántica."
   ]
  },
  {
   "cell_type": "code",
   "execution_count": null,
   "metadata": {},
   "outputs": [],
   "source": [
    "\n",
    "vcounts = [0 for i in range(n)]\n",
    "for register in counts.items():\n",
    "    v = ExtGtoG[int(register[0],2)]\n",
    "    vcounts[v]+= register[1]\n",
    "totalvcounts = sum(vcounts)\n",
    "vcounts = [cc/totalvcounts for cc in vcounts]\n",
    "plt.bar(range(n),vcounts,alpha=0.6,label=\"QPR\")\n",
    "print(vcounts)\n",
    "\n",
    "CPR = nx.pagerank(G,alpha=0.85)\n",
    "print(CPR.values())\n",
    "plt.bar(range(n),CPR.values(),alpha=0.6,label=\"Classic PR\")\n",
    "\n",
    "plt.legend()\n",
    "plt.plot()"
   ]
  },
  {
   "cell_type": "code",
   "execution_count": null,
   "metadata": {},
   "outputs": [],
   "source": []
  },
  {
   "cell_type": "code",
   "execution_count": null,
   "metadata": {},
   "outputs": [],
   "source": []
  },
  {
   "cell_type": "code",
   "execution_count": null,
   "metadata": {},
   "outputs": [],
   "source": []
  }
 ],
 "metadata": {
  "kernelspec": {
   "display_name": "Python 3 (ipykernel)",
   "language": "python",
   "name": "python3"
  },
  "language_info": {
   "codemirror_mode": {
    "name": "ipython",
    "version": 3
   },
   "file_extension": ".py",
   "mimetype": "text/x-python",
   "name": "python",
   "nbconvert_exporter": "python",
   "pygments_lexer": "ipython3",
   "version": "3.9.10"
  }
 },
 "nbformat": 4,
 "nbformat_minor": 4
}
