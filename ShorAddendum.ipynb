{
 "cells": [
  {
   "cell_type": "markdown",
   "id": "b38f8fa3-ba3a-4054-8bd9-44b5d8f350ad",
   "metadata": {
    "tags": []
   },
   "source": [
    "## Addendum: algoritmo de Shor"
   ]
  },
  {
   "cell_type": "code",
   "execution_count": 26,
   "id": "9fafe43f-6202-4fbe-95c4-895c1468487d",
   "metadata": {},
   "outputs": [],
   "source": [
    "import qiskit as q\n",
    "pi = 3.1415926535"
   ]
  },
  {
   "cell_type": "code",
   "execution_count": 27,
   "id": "cdfff78e-af70-4e22-b4bd-b5a765ab958b",
   "metadata": {},
   "outputs": [],
   "source": [
    "N = 15\n",
    "# Numero de qubits requeridos\n",
    "m = int(np.ceil(np.log2(N)))\n",
    "def U():\n",
    "    U_qc = q.QuantumCircuit(m)\n",
    "    U_qc.x(range(m))\n",
    "    U_qc.swap(1, 2)\n",
    "    U_qc.swap(2, 3)\n",
    "    U_qc.swap(0, 3)\n",
    "    U = U_qc.to_gate()\n",
    "    U.name ='{} x Mod{}'.format(7, N)\n",
    "    return U\n"
   ]
  },
  {
   "cell_type": "code",
   "execution_count": 28,
   "id": "15ee03ff-ff56-4451-a0dc-8d6d7ebe6f3a",
   "metadata": {},
   "outputs": [
    {
     "data": {
      "text/plain": [
       "Instruction(name='ccircuit-438061', num_qubits=5, num_clbits=0, params=[])"
      ]
     },
     "execution_count": 28,
     "metadata": {},
     "output_type": "execute_result"
    }
   ],
   "source": [
    "def Upower(k):\n",
    "    aux = q.QuantumCircuit(m)\n",
    "    for i in range(k):\n",
    "        aux.append(U(),range(m))\n",
    "    aux = aux.to_gate().control(1)\n",
    "    #aux.label(\"U power\")\n",
    "    return aux\n",
    "\n",
    "Upower(2)\n",
    "    "
   ]
  },
  {
   "cell_type": "code",
   "execution_count": null,
   "id": "ab818725-fdd9-4945-8826-ab744898af3d",
   "metadata": {},
   "outputs": [],
   "source": [
    "def qft(Nq):\n",
    "    qftc = q.QuantumCircuit(Nq)\n",
    "    for i in range(Nq//2):\n",
    "        qftc.swap(i,Nq-i-1)\n",
    "    for control  in range(Nq):\n",
    "        qftc.h(control)\n",
    "        for target in reversed (range(control+1,Nq)):\n",
    "            qftc.cp(pi/(2**(target-control)), target,control)\n",
    "    return qftc.to_gate(label = \"QFT\")\n",
    "\n",
    "\n",
    "t = 3 \n",
    "shor_QPE = q.QuantumCircuit(t+m, t)\n",
    "shor_QPE.h(range(t))\n",
    "\n",
    "shor_QPE.x(t)\n",
    "for idx in range(t-1):\n",
    "    shor_QPE.append(Upower(2**idx), [idx]+ list(range(t,t+m)))\n",
    "\n",
    "qft_dag = qft(t).inverse()\n",
    "qft_dag.name = 'QFT$^\\dagger$'\n",
    "\n",
    "shor_QPE.append(qft_dag, range(t))\n",
    "shor_QPE.measure(range(t), range(t))\n",
    "\n",
    "shor_QPE.draw(\"mpl\")"
   ]
  },
  {
   "cell_type": "code",
   "execution_count": null,
   "id": "1d4d55fb-0c3f-4493-8415-b4d8e4ecb7fc",
   "metadata": {},
   "outputs": [],
   "source": []
  },
  {
   "cell_type": "code",
   "execution_count": 24,
   "id": "824767f8-e485-44e5-bdd7-49a537b7f8e1",
   "metadata": {},
   "outputs": [],
   "source": [
    "import math\n",
    "import numpy as np\n",
    "from qiskit import Aer\n",
    "from qiskit.utils import QuantumInstance\n",
    "from qiskit.algorithms import Shor"
   ]
  },
  {
   "cell_type": "code",
   "execution_count": 25,
   "id": "050b6d55-ee53-4cfb-937a-54237762ae60",
   "metadata": {},
   "outputs": [
    {
     "name": "stdout",
     "output_type": "stream",
     "text": [
      "The list of factors of 21 as computed by the Shor's algorithm is [3, 7].\n"
     ]
    }
   ],
   "source": [
    "N = 21\n",
    "backend = Aer.get_backend('aer_simulator')\n",
    "quantum_instance = QuantumInstance(backend, shots=1024)\n",
    "shor = Shor(quantum_instance=quantum_instance)\n",
    "result = shor.factor(N)\n",
    "print(f\"The list of factors of {N} as computed by the Shor's algorithm is {result.factors[0]}.\")"
   ]
  },
  {
   "cell_type": "code",
   "execution_count": null,
   "id": "91e1bfd6-efdc-456a-8302-47c38612ff7c",
   "metadata": {},
   "outputs": [],
   "source": []
  }
 ],
 "metadata": {
  "kernelspec": {
   "display_name": "Python 3 (ipykernel)",
   "language": "python",
   "name": "python3"
  },
  "language_info": {
   "codemirror_mode": {
    "name": "ipython",
    "version": 3
   },
   "file_extension": ".py",
   "mimetype": "text/x-python",
   "name": "python",
   "nbconvert_exporter": "python",
   "pygments_lexer": "ipython3",
   "version": "3.9.10"
  }
 },
 "nbformat": 4,
 "nbformat_minor": 5
}
